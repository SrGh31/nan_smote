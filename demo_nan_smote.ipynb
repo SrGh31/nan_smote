{
 "cells": [
  {
   "cell_type": "code",
   "execution_count": 23,
   "id": "2a7560d1",
   "metadata": {},
   "outputs": [
    {
     "name": "stdout",
     "output_type": "stream",
     "text": [
      "1.20.3\n"
     ]
    }
   ],
   "source": [
    "import numpy as np\n",
    "print(np.__version__)\n",
    "import pandas as pd\n",
    "from sklearn import preprocessing\n",
    "import sys\n",
    "import os\n",
    "\n",
    "sys.path.append('./code')\n",
    "import nan_smote as nan_smote\n",
    "os.environ['U2_USE_AVG_CLOSEST_POINTS_AS_THR'] = \"1\"\n",
    "os.environ['U3_SPREAD_NANS_BOTH_BRANCHES'] = \"1\"\n",
    "os.environ['U5_SCALE_FEATURE_IMPORT_BY_PY_SUM'] = \"1\"\n",
    "dataset_dir = \"./data/Asthma_datasets_full/Clinical_and_GeneralInfo/cleanedData\"\n",
    "dataset_name = 'multiclass/L2'; test_folds_filename = 'lungTestFold.csv'\n",
    "dataset_path = f\"{dataset_dir}/{dataset_name}.csv\"\n",
    "\n",
    "\n",
    "original_df = pd.read_csv(dataset_path)\n",
    "output_col = \"asthma\"\n",
    "data_settings = {\n",
    "    \"dataset_dir\": dataset_dir,\n",
    "    \"dataset_name\": dataset_name,\n",
    "    \"predictor_cols\": list(original_df.columns[1:]),\n",
    "    \"output_col\": output_col,\n",
    "    \"objects_indices\": None, # None means not given, all data will be used\n",
    "    \"classes\": original_df[output_col].unique(),\n",
    "    \"classes_string\": \"all\",\n",
    "    \"n_folds\": 5,\n",
    "    \"folds_indices_filename\": test_folds_filename,\n",
    "}\n",
    "#\n",
    "features_df=original_df.iloc[:,1:]\n",
    "labels_df=original_df.asthma\n",
    "le = preprocessing.LabelEncoder().fit(labels_df)"
   ]
  },
  {
   "cell_type": "code",
   "execution_count": 24,
   "id": "64a7e095",
   "metadata": {},
   "outputs": [
    {
     "name": "stdout",
     "output_type": "stream",
     "text": [
      "shape of original_df:  (232, 37)\n",
      "shape of features_df:  (232, 36)\n",
      "shape of labels_df:  (232,)\n",
      "Class strengths:  [33 15 90 94]\n",
      "Amount of missing values:  386\n"
     ]
    }
   ],
   "source": [
    "print('shape of original_df: ',original_df.shape)\n",
    "print('shape of features_df: ',features_df.shape)\n",
    "print('shape of labels_df: ',labels_df.shape)\n",
    "print('Class strengths: ', np.bincount(le.transform(labels_df)))\n",
    "print('Amount of missing values: ', features_df.isnull().sum().sum())"
   ]
  },
  {
   "cell_type": "code",
   "execution_count": 26,
   "id": "147eff07",
   "metadata": {},
   "outputs": [
    {
     "name": "stdout",
     "output_type": "stream",
     "text": [
      "shape of features_df:  (372, 36)\n",
      "shape of labels_df:  (372,)\n"
     ]
    },
    {
     "ename": "AttributeError",
     "evalue": "'numpy.ndarray' object has no attribute 'value_counts'",
     "output_type": "error",
     "traceback": [
      "\u001b[0;31m---------------------------------------------------------------------------\u001b[0m",
      "\u001b[0;31mAttributeError\u001b[0m                            Traceback (most recent call last)",
      "\u001b[0;32m/tmp/ipykernel_9790/3384177293.py\u001b[0m in \u001b[0;36m<module>\u001b[0;34m\u001b[0m\n\u001b[1;32m      2\u001b[0m \u001b[0mprint\u001b[0m\u001b[0;34m(\u001b[0m\u001b[0;34m'shape of features_df: '\u001b[0m\u001b[0;34m,\u001b[0m\u001b[0movers_features_df\u001b[0m\u001b[0;34m.\u001b[0m\u001b[0mshape\u001b[0m\u001b[0;34m)\u001b[0m\u001b[0;34m\u001b[0m\u001b[0;34m\u001b[0m\u001b[0m\n\u001b[1;32m      3\u001b[0m \u001b[0mprint\u001b[0m\u001b[0;34m(\u001b[0m\u001b[0;34m'shape of labels_df: '\u001b[0m\u001b[0;34m,\u001b[0m\u001b[0movers_labels_df\u001b[0m\u001b[0;34m.\u001b[0m\u001b[0mshape\u001b[0m\u001b[0;34m)\u001b[0m\u001b[0;34m\u001b[0m\u001b[0;34m\u001b[0m\u001b[0m\n\u001b[0;32m----> 4\u001b[0;31m \u001b[0mprint\u001b[0m\u001b[0;34m(\u001b[0m\u001b[0;34m'Class strengths: '\u001b[0m\u001b[0;34m,\u001b[0m \u001b[0movers_labels_df\u001b[0m\u001b[0;34m.\u001b[0m\u001b[0mvalue_counts\u001b[0m\u001b[0;34m(\u001b[0m\u001b[0;34m)\u001b[0m \u001b[0;34m)\u001b[0m\u001b[0;34m\u001b[0m\u001b[0;34m\u001b[0m\u001b[0m\n\u001b[0m\u001b[1;32m      5\u001b[0m \u001b[0mprint\u001b[0m\u001b[0;34m(\u001b[0m\u001b[0;34m'Amount of missing values: '\u001b[0m\u001b[0;34m,\u001b[0m \u001b[0movers_features_df\u001b[0m\u001b[0;34m.\u001b[0m\u001b[0misnull\u001b[0m\u001b[0;34m(\u001b[0m\u001b[0;34m)\u001b[0m\u001b[0;34m.\u001b[0m\u001b[0msum\u001b[0m\u001b[0;34m(\u001b[0m\u001b[0;34m)\u001b[0m\u001b[0;34m.\u001b[0m\u001b[0msum\u001b[0m\u001b[0;34m(\u001b[0m\u001b[0;34m)\u001b[0m\u001b[0;34m)\u001b[0m\u001b[0;34m\u001b[0m\u001b[0;34m\u001b[0m\u001b[0m\n",
      "\u001b[0;31mAttributeError\u001b[0m: 'numpy.ndarray' object has no attribute 'value_counts'"
     ]
    }
   ],
   "source": [
    "overs_features_df, overs_labels_df=nan_smote.smote_all_class(features_df, le.transform(labels_df))\n",
    "print('shape of features_df: ',overs_features_df.shape)\n",
    "print('shape of labels_df: ',overs_labels_df.shape)\n"    
   ]
  },
  {
   "cell_type": "code",
   "execution_count": null,
   "id": "f7f33072",
   "metadata": {},
   "outputs": [],
   "source": []
  }
 ],
 "metadata": {
  "kernelspec": {
   "display_name": "Python 3 (ipykernel)",
   "language": "python",
   "name": "python3"
  },
  "language_info": {
   "codemirror_mode": {
    "name": "ipython",
    "version": 3
   },
   "file_extension": ".py",
   "mimetype": "text/x-python",
   "name": "python",
   "nbconvert_exporter": "python",
   "pygments_lexer": "ipython3",
   "version": "3.9.7"
  }
 },
 "nbformat": 4,
 "nbformat_minor": 5
}
