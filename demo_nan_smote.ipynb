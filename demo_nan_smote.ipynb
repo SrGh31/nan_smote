{
 "cells": [
  {
   "cell_type": "code",
   "execution_count": 13,
   "id": "2a7560d1",
   "metadata": {},
   "outputs": [
    {
     "name": "stdout",
     "output_type": "stream",
     "text": [
      "1.21.2\n"
     ]
    }
   ],
   "source": [
    "import numpy as np\n",
    "print(np.__version__)\n",
    "import pandas as pd\n",
    "from sklearn import preprocessing\n",
    "import sys\n",
    "import os\n",
    "\n",
    "sys.path.append('./')\n",
    "import nan_smote as nan_smote\n",
    "os.environ['U2_USE_AVG_CLOSEST_POINTS_AS_THR'] = \"1\"\n",
    "os.environ['U3_SPREAD_NANS_BOTH_BRANCHES'] = \"1\"\n",
    "os.environ['U5_SCALE_FEATURE_IMPORT_BY_PY_SUM'] = \"1\"\n",
    "dataset_dir = \"~/rug-researchproject/data/Asthma_datasets_full/Clinical_and_GeneralInfo/cleanedData\"\n",
    "dataset_name = 'multiclass/L2'; test_folds_filename = 'lungTestFold.csv'\n",
    "dataset_path = f\"{dataset_dir}/{dataset_name}.csv\"\n",
    "\n",
    "\n",
    "original_df = pd.read_csv(dataset_path)\n",
    "output_col = \"asthma\"\n",
    "data_settings = {\n",
    "    \"dataset_dir\": dataset_dir,\n",
    "    \"dataset_name\": dataset_name,\n",
    "    \"predictor_cols\": list(original_df.columns[1:]),\n",
    "    \"output_col\": output_col,\n",
    "    \"objects_indices\": None, # None means not given, all data will be used\n",
    "    \"classes\": original_df[output_col].unique(),\n",
    "    \"classes_string\": \"all\",\n",
    "    \"n_folds\": 5,\n",
    "    \"folds_indices_filename\": test_folds_filename,\n",
    "}\n",
    "#\n",
    "features_df=original_df.iloc[:,1:]\n",
    "labels_df=original_df.asthma\n",
    "le = preprocessing.LabelEncoder().fit(labels_df)"
   ]
  },
  {
   "cell_type": "code",
   "execution_count": 14,
   "id": "64a7e095",
   "metadata": {},
   "outputs": [
    {
     "name": "stdout",
     "output_type": "stream",
     "text": [
      "shape of original_df:  (232, 37)\n",
      "shape of features_df:  (232, 36)\n",
      "shape of labels_df:  (232,)\n",
      "Class strengths:  [33 15 90 94]\n",
      "Amount of missing values:  386\n"
     ]
    }
   ],
   "source": [
    "print('shape of original_df: ',original_df.shape)\n",
    "print('shape of features_df: ',features_df.shape)\n",
    "print('shape of labels_df: ',labels_df.shape)\n",
    "print('Class strengths: ', np.bincount(le.transform(labels_df)))\n",
    "print('Amount of missing values: ', features_df.isnull().sum().sum())"
   ]
  },
  {
   "cell_type": "markdown",
   "id": "cd73bf5a",
   "metadata": {},
   "source": [
    "## Using SMOTE, with Euclidean distance"
   ]
  },
  {
   "cell_type": "code",
   "execution_count": 16,
   "id": "147eff07",
   "metadata": {},
   "outputs": [
    {
     "name": "stdout",
     "output_type": "stream",
     "text": [
      "shape of features_df:  (372, 36)\n",
      "shape and type of labels_df:  (372,) <class 'numpy.ndarray'>\n",
      "Class strength after oversampling:  [[ 0 94]\n",
      " [ 1 94]\n",
      " [ 2 90]\n",
      " [ 3 94]]\n"
     ]
    }
   ],
   "source": [
    "overs_features_df, overs_labels_df=nan_smote.smote_all_class(features_df, \n",
    "                                                    le.transform(labels_df), 'Euclid')\n",
    "print('shape of features_df: ',overs_features_df.shape)\n",
    "print('shape and type of labels_df: ',overs_labels_df.shape, type(overs_labels_df))\n",
    "print('Class strength after oversampling: ', y)\n",
    "#print('Class strengths: ', overs_labels_df.value_counts() )\n",
    "#print('Amount of missing values: ', overs_features_df.isnull().sum().sum())"
   ]
  },
  {
   "cell_type": "markdown",
   "id": "b635b421",
   "metadata": {},
   "source": [
    "## Using geodesic SMOTE, with cosine dissimilarity"
   ]
  },
  {
   "cell_type": "code",
   "execution_count": 17,
   "id": "f7f33072",
   "metadata": {},
   "outputs": [
    {
     "name": "stdout",
     "output_type": "stream",
     "text": [
      "shape of features_df:  (372, 36)\n",
      "shape and type of labels_df:  (372,) <class 'numpy.ndarray'>\n",
      "Class strength after oversampling:  [[ 0 94]\n",
      " [ 1 94]\n",
      " [ 2 90]\n",
      " [ 3 94]]\n"
     ]
    }
   ],
   "source": [
    "overs_features_df, overs_labels_df=nan_smote.smote_all_class(features_df, \n",
    "                                                    le.transform(labels_df), 'Cosine')\n",
    "print('shape of features_df: ',overs_features_df.shape)\n",
    "print('shape and type of labels_df: ',overs_labels_df.shape, type(overs_labels_df))\n",
    "y = np.array(np.unique(overs_labels_df, return_counts=True)).T\n",
    "print('Class strength after oversampling: ', y)"
   ]
  }
 ],
 "metadata": {
  "kernelspec": {
   "display_name": "Python 3 (ipykernel)",
   "language": "python",
   "name": "python3"
  },
  "language_info": {
   "codemirror_mode": {
    "name": "ipython",
    "version": 3
   },
   "file_extension": ".py",
   "mimetype": "text/x-python",
   "name": "python",
   "nbconvert_exporter": "python",
   "pygments_lexer": "ipython3",
   "version": "3.8.2"
  }
 },
 "nbformat": 4,
 "nbformat_minor": 5
}
